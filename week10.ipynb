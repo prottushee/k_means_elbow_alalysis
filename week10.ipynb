{
  "nbformat": 4,
  "nbformat_minor": 0,
  "metadata": {
    "colab": {
      "provenance": [],
      "include_colab_link": true
    },
    "kernelspec": {
      "name": "python3",
      "display_name": "Python 3"
    },
    "language_info": {
      "name": "python"
    }
  },
  "cells": [
    {
      "cell_type": "markdown",
      "metadata": {
        "id": "view-in-github",
        "colab_type": "text"
      },
      "source": [
        "<a href=\"https://colab.research.google.com/github/prottushee/k_means_elbow_alalysis/blob/main/week10.ipynb\" target=\"_parent\"><img src=\"https://colab.research.google.com/assets/colab-badge.svg\" alt=\"Open In Colab\"/></a>"
      ]
    },
    {
      "cell_type": "markdown",
      "source": [
        "#**K-Means Algorithm - Sirat E Afroz(2154901087)**"
      ],
      "metadata": {
        "id": "PV3MIP-jJFKB"
      }
    },
    {
      "cell_type": "markdown",
      "source": [
        "###Importing Libraries"
      ],
      "metadata": {
        "id": "hi4CxqYjSfIp"
      }
    },
    {
      "cell_type": "code",
      "execution_count": null,
      "metadata": {
        "id": "peQuDZgAWPty"
      },
      "outputs": [],
      "source": [
        "import numpy as np\n",
        "import matplotlib.pyplot as plt\n",
        "import pandas as pd"
      ]
    },
    {
      "cell_type": "markdown",
      "source": [
        "###Loading the dataset\n"
      ],
      "metadata": {
        "id": "-SbPlokYStaB"
      }
    },
    {
      "cell_type": "code",
      "execution_count": null,
      "metadata": {
        "id": "UYZm-aGrW7-O"
      },
      "outputs": [],
      "source": [
        "dataset = pd.read_csv('Mall_Customers.csv')"
      ]
    },
    {
      "cell_type": "code",
      "source": [
        "print(dataset)"
      ],
      "metadata": {
        "colab": {
          "base_uri": "https://localhost:8080/"
        },
        "id": "Z9iAk2N4hHLa",
        "outputId": "34b5f90c-7fcc-4d4a-e0ac-3c97fb7c791a"
      },
      "execution_count": null,
      "outputs": [
        {
          "output_type": "stream",
          "name": "stdout",
          "text": [
            "     CustomerID   Genre  Age  Annual Income (k$)  Spending Score (1-100)\n",
            "0             1    Male   19                  15                      39\n",
            "1             2    Male   21                  15                      81\n",
            "2             3  Female   20                  16                       6\n",
            "3             4  Female   23                  16                      77\n",
            "4             5  Female   31                  17                      40\n",
            "..          ...     ...  ...                 ...                     ...\n",
            "195         196  Female   35                 120                      79\n",
            "196         197  Female   45                 126                      28\n",
            "197         198    Male   32                 126                      74\n",
            "198         199    Male   32                 137                      18\n",
            "199         200    Male   30                 137                      83\n",
            "\n",
            "[200 rows x 5 columns]\n"
          ]
        }
      ]
    },
    {
      "cell_type": "markdown",
      "source": [
        "####**This dataset has details about 200 individual customers, including their ID numbers, gender, age, annual income (measured in thousands of dollars), and a spending score that ranges from 1 to 100, indicating how much they typically spend. It offers a simple but insightful look into customer demographics and shopping behaviors. By exploring this information, businesses can better understand different types of customers, group them based on their habits, and design more focused marketing strategies.**"
      ],
      "metadata": {
        "id": "cHcrWVupoHVf"
      }
    },
    {
      "cell_type": "markdown",
      "source": [
        "##Selecting three features from the dataset: **Annual Income**, **Age** and **Spending Score**, which are used as the input variables for clustering. (2154901087)"
      ],
      "metadata": {
        "id": "ggSmpmd8qoH3"
      }
    },
    {
      "cell_type": "code",
      "execution_count": null,
      "metadata": {
        "colab": {
          "base_uri": "https://localhost:8080/"
        },
        "collapsed": true,
        "id": "3TAGY-ZwX-MH",
        "outputId": "48a228af-6ba8-4e5d-b033-2981bd67dbe1"
      },
      "outputs": [
        {
          "output_type": "stream",
          "name": "stdout",
          "text": [
            "[[ 19  15  39]\n",
            " [ 21  15  81]\n",
            " [ 20  16   6]\n",
            " [ 23  16  77]\n",
            " [ 31  17  40]\n",
            " [ 22  17  76]\n",
            " [ 35  18   6]\n",
            " [ 23  18  94]\n",
            " [ 64  19   3]\n",
            " [ 30  19  72]\n",
            " [ 67  19  14]\n",
            " [ 35  19  99]\n",
            " [ 58  20  15]\n",
            " [ 24  20  77]\n",
            " [ 37  20  13]\n",
            " [ 22  20  79]\n",
            " [ 35  21  35]\n",
            " [ 20  21  66]\n",
            " [ 52  23  29]\n",
            " [ 35  23  98]\n",
            " [ 35  24  35]\n",
            " [ 25  24  73]\n",
            " [ 46  25   5]\n",
            " [ 31  25  73]\n",
            " [ 54  28  14]\n",
            " [ 29  28  82]\n",
            " [ 45  28  32]\n",
            " [ 35  28  61]\n",
            " [ 40  29  31]\n",
            " [ 23  29  87]\n",
            " [ 60  30   4]\n",
            " [ 21  30  73]\n",
            " [ 53  33   4]\n",
            " [ 18  33  92]\n",
            " [ 49  33  14]\n",
            " [ 21  33  81]\n",
            " [ 42  34  17]\n",
            " [ 30  34  73]\n",
            " [ 36  37  26]\n",
            " [ 20  37  75]\n",
            " [ 65  38  35]\n",
            " [ 24  38  92]\n",
            " [ 48  39  36]\n",
            " [ 31  39  61]\n",
            " [ 49  39  28]\n",
            " [ 24  39  65]\n",
            " [ 50  40  55]\n",
            " [ 27  40  47]\n",
            " [ 29  40  42]\n",
            " [ 31  40  42]\n",
            " [ 49  42  52]\n",
            " [ 33  42  60]\n",
            " [ 31  43  54]\n",
            " [ 59  43  60]\n",
            " [ 50  43  45]\n",
            " [ 47  43  41]\n",
            " [ 51  44  50]\n",
            " [ 69  44  46]\n",
            " [ 27  46  51]\n",
            " [ 53  46  46]\n",
            " [ 70  46  56]\n",
            " [ 19  46  55]\n",
            " [ 67  47  52]\n",
            " [ 54  47  59]\n",
            " [ 63  48  51]\n",
            " [ 18  48  59]\n",
            " [ 43  48  50]\n",
            " [ 68  48  48]\n",
            " [ 19  48  59]\n",
            " [ 32  48  47]\n",
            " [ 70  49  55]\n",
            " [ 47  49  42]\n",
            " [ 60  50  49]\n",
            " [ 60  50  56]\n",
            " [ 59  54  47]\n",
            " [ 26  54  54]\n",
            " [ 45  54  53]\n",
            " [ 40  54  48]\n",
            " [ 23  54  52]\n",
            " [ 49  54  42]\n",
            " [ 57  54  51]\n",
            " [ 38  54  55]\n",
            " [ 67  54  41]\n",
            " [ 46  54  44]\n",
            " [ 21  54  57]\n",
            " [ 48  54  46]\n",
            " [ 55  57  58]\n",
            " [ 22  57  55]\n",
            " [ 34  58  60]\n",
            " [ 50  58  46]\n",
            " [ 68  59  55]\n",
            " [ 18  59  41]\n",
            " [ 48  60  49]\n",
            " [ 40  60  40]\n",
            " [ 32  60  42]\n",
            " [ 24  60  52]\n",
            " [ 47  60  47]\n",
            " [ 27  60  50]\n",
            " [ 48  61  42]\n",
            " [ 20  61  49]\n",
            " [ 23  62  41]\n",
            " [ 49  62  48]\n",
            " [ 67  62  59]\n",
            " [ 26  62  55]\n",
            " [ 49  62  56]\n",
            " [ 21  62  42]\n",
            " [ 66  63  50]\n",
            " [ 54  63  46]\n",
            " [ 68  63  43]\n",
            " [ 66  63  48]\n",
            " [ 65  63  52]\n",
            " [ 19  63  54]\n",
            " [ 38  64  42]\n",
            " [ 19  64  46]\n",
            " [ 18  65  48]\n",
            " [ 19  65  50]\n",
            " [ 63  65  43]\n",
            " [ 49  65  59]\n",
            " [ 51  67  43]\n",
            " [ 50  67  57]\n",
            " [ 27  67  56]\n",
            " [ 38  67  40]\n",
            " [ 40  69  58]\n",
            " [ 39  69  91]\n",
            " [ 23  70  29]\n",
            " [ 31  70  77]\n",
            " [ 43  71  35]\n",
            " [ 40  71  95]\n",
            " [ 59  71  11]\n",
            " [ 38  71  75]\n",
            " [ 47  71   9]\n",
            " [ 39  71  75]\n",
            " [ 25  72  34]\n",
            " [ 31  72  71]\n",
            " [ 20  73   5]\n",
            " [ 29  73  88]\n",
            " [ 44  73   7]\n",
            " [ 32  73  73]\n",
            " [ 19  74  10]\n",
            " [ 35  74  72]\n",
            " [ 57  75   5]\n",
            " [ 32  75  93]\n",
            " [ 28  76  40]\n",
            " [ 32  76  87]\n",
            " [ 25  77  12]\n",
            " [ 28  77  97]\n",
            " [ 48  77  36]\n",
            " [ 32  77  74]\n",
            " [ 34  78  22]\n",
            " [ 34  78  90]\n",
            " [ 43  78  17]\n",
            " [ 39  78  88]\n",
            " [ 44  78  20]\n",
            " [ 38  78  76]\n",
            " [ 47  78  16]\n",
            " [ 27  78  89]\n",
            " [ 37  78   1]\n",
            " [ 30  78  78]\n",
            " [ 34  78   1]\n",
            " [ 30  78  73]\n",
            " [ 56  79  35]\n",
            " [ 29  79  83]\n",
            " [ 19  81   5]\n",
            " [ 31  81  93]\n",
            " [ 50  85  26]\n",
            " [ 36  85  75]\n",
            " [ 42  86  20]\n",
            " [ 33  86  95]\n",
            " [ 36  87  27]\n",
            " [ 32  87  63]\n",
            " [ 40  87  13]\n",
            " [ 28  87  75]\n",
            " [ 36  87  10]\n",
            " [ 36  87  92]\n",
            " [ 52  88  13]\n",
            " [ 30  88  86]\n",
            " [ 58  88  15]\n",
            " [ 27  88  69]\n",
            " [ 59  93  14]\n",
            " [ 35  93  90]\n",
            " [ 37  97  32]\n",
            " [ 32  97  86]\n",
            " [ 46  98  15]\n",
            " [ 29  98  88]\n",
            " [ 41  99  39]\n",
            " [ 30  99  97]\n",
            " [ 54 101  24]\n",
            " [ 28 101  68]\n",
            " [ 41 103  17]\n",
            " [ 36 103  85]\n",
            " [ 34 103  23]\n",
            " [ 32 103  69]\n",
            " [ 33 113   8]\n",
            " [ 38 113  91]\n",
            " [ 47 120  16]\n",
            " [ 35 120  79]\n",
            " [ 45 126  28]\n",
            " [ 32 126  74]\n",
            " [ 32 137  18]\n",
            " [ 30 137  83]]\n"
          ]
        }
      ],
      "source": [
        "x = dataset.iloc[:,[2,3,4]].values\n",
        "print(x)"
      ]
    },
    {
      "cell_type": "markdown",
      "source": [
        "##**Apply K-Means**(2154901087)\n",
        "###Annual Income, Age & Spending score\n",
        "###range (1,21)"
      ],
      "metadata": {
        "id": "8C37wIPJJ9Fj"
      }
    },
    {
      "cell_type": "code",
      "execution_count": null,
      "metadata": {
        "id": "vyxbbVrEuRPQ",
        "colab": {
          "base_uri": "https://localhost:8080/"
        },
        "outputId": "a5b3b27e-3db0-4bfe-ca01-24380aa3bec0"
      },
      "outputs": [
        {
          "output_type": "stream",
          "name": "stdout",
          "text": [
            "[269981.28000000014]\n",
            "[269981.28000000014, 183653.3289473683]\n",
            "[269981.28000000014, 183653.3289473683, 106348.37306211119]\n",
            "[269981.28000000014, 183653.3289473683, 106348.37306211119, 73880.64496247198]\n",
            "[269981.28000000014, 183653.3289473683, 106348.37306211119, 73880.64496247198, 44448.45544793369]\n",
            "[269981.28000000014, 183653.3289473683, 106348.37306211119, 73880.64496247198, 44448.45544793369, 40825.16946386947]\n",
            "[269981.28000000014, 183653.3289473683, 106348.37306211119, 73880.64496247198, 44448.45544793369, 40825.16946386947, 33642.57922077922]\n",
            "[269981.28000000014, 183653.3289473683, 106348.37306211119, 73880.64496247198, 44448.45544793369, 40825.16946386947, 33642.57922077922, 26686.837785187785]\n",
            "[269981.28000000014, 183653.3289473683, 106348.37306211119, 73880.64496247198, 44448.45544793369, 40825.16946386947, 33642.57922077922, 26686.837785187785, 24766.471609793436]\n",
            "[269981.28000000014, 183653.3289473683, 106348.37306211119, 73880.64496247198, 44448.45544793369, 40825.16946386947, 33642.57922077922, 26686.837785187785, 24766.471609793436, 23103.122085983905]\n",
            "[269981.28000000014, 183653.3289473683, 106348.37306211119, 73880.64496247198, 44448.45544793369, 40825.16946386947, 33642.57922077922, 26686.837785187785, 24766.471609793436, 23103.122085983905, 18912.01248078515]\n",
            "[269981.28000000014, 183653.3289473683, 106348.37306211119, 73880.64496247198, 44448.45544793369, 40825.16946386947, 33642.57922077922, 26686.837785187785, 24766.471609793436, 23103.122085983905, 18912.01248078515, 17425.00512987014]\n",
            "[269981.28000000014, 183653.3289473683, 106348.37306211119, 73880.64496247198, 44448.45544793369, 40825.16946386947, 33642.57922077922, 26686.837785187785, 24766.471609793436, 23103.122085983905, 18912.01248078515, 17425.00512987014, 15168.498192909192]\n",
            "[269981.28000000014, 183653.3289473683, 106348.37306211119, 73880.64496247198, 44448.45544793369, 40825.16946386947, 33642.57922077922, 26686.837785187785, 24766.471609793436, 23103.122085983905, 18912.01248078515, 17425.00512987014, 15168.498192909192, 14466.207382661194]\n",
            "[269981.28000000014, 183653.3289473683, 106348.37306211119, 73880.64496247198, 44448.45544793369, 40825.16946386947, 33642.57922077922, 26686.837785187785, 24766.471609793436, 23103.122085983905, 18912.01248078515, 17425.00512987014, 15168.498192909192, 14466.207382661194, 12419.37562941444]\n",
            "[269981.28000000014, 183653.3289473683, 106348.37306211119, 73880.64496247198, 44448.45544793369, 40825.16946386947, 33642.57922077922, 26686.837785187785, 24766.471609793436, 23103.122085983905, 18912.01248078515, 17425.00512987014, 15168.498192909192, 14466.207382661194, 12419.37562941444, 12620.355020126068]\n",
            "[269981.28000000014, 183653.3289473683, 106348.37306211119, 73880.64496247198, 44448.45544793369, 40825.16946386947, 33642.57922077922, 26686.837785187785, 24766.471609793436, 23103.122085983905, 18912.01248078515, 17425.00512987014, 15168.498192909192, 14466.207382661194, 12419.37562941444, 12620.355020126068, 11126.929648932937]\n",
            "[269981.28000000014, 183653.3289473683, 106348.37306211119, 73880.64496247198, 44448.45544793369, 40825.16946386947, 33642.57922077922, 26686.837785187785, 24766.471609793436, 23103.122085983905, 18912.01248078515, 17425.00512987014, 15168.498192909192, 14466.207382661194, 12419.37562941444, 12620.355020126068, 11126.929648932937, 10209.237447786125]\n",
            "[269981.28000000014, 183653.3289473683, 106348.37306211119, 73880.64496247198, 44448.45544793369, 40825.16946386947, 33642.57922077922, 26686.837785187785, 24766.471609793436, 23103.122085983905, 18912.01248078515, 17425.00512987014, 15168.498192909192, 14466.207382661194, 12419.37562941444, 12620.355020126068, 11126.929648932937, 10209.237447786125, 9837.666019214694]\n",
            "[269981.28000000014, 183653.3289473683, 106348.37306211119, 73880.64496247198, 44448.45544793369, 40825.16946386947, 33642.57922077922, 26686.837785187785, 24766.471609793436, 23103.122085983905, 18912.01248078515, 17425.00512987014, 15168.498192909192, 14466.207382661194, 12419.37562941444, 12620.355020126068, 11126.929648932937, 10209.237447786125, 9837.666019214694, 9071.334059507733]\n"
          ]
        }
      ],
      "source": [
        "from sklearn.cluster import KMeans\n",
        "wcss = []\n",
        "for i in range(1,21):\n",
        "  kmeans = KMeans(n_clusters=i, init='k-means++', random_state=42) #kmeans++ initializtion strategy to place centroid\n",
        "  kmeans.fit(x)\n",
        "  wcss.append(kmeans.inertia_)\n",
        "  print(wcss)"
      ]
    },
    {
      "cell_type": "markdown",
      "source": [
        " ###**Iteratively fits K-Means models with a varying number of clusters (from 1 to 7) and records the Within-Cluster Sum of Squares (WCSS) for each model. WCSS measures how tightly the data points in a cluster are grouped around their respective centroids—a lower WCSS indicates tighter clusters.** (2154901087)"
      ],
      "metadata": {
        "id": "4veATMaXrmI3"
      }
    },
    {
      "cell_type": "markdown",
      "source": [
        "\n",
        "\n",
        "*   wcss = []\n",
        "Initializes an empty list called wcss which will be used to store the Within-Cluster Sum of Squares (WCSS) values for different numbers of clusters. WCSS measures how close the data points in a cluster are to the cluster center.\n",
        "*   for i in range(1, 8):\n",
        "Starts a for loop that iterates over the number of clusters, starting from 1 to 7. This loop will test the K-Means algorithm with a different number of clusters in each iteration.\n",
        "\n",
        "* kmeans = KMeans(n_clusters=i, init='k-means++', random_state=42)\n",
        "Creates a KMeans object for the current iteration with i clusters.\n",
        "\n",
        "* n_clusters=i: Specifies the current number of clusters.\n",
        "\n",
        "* init='k-means++': Uses the K-Means++ initialization, which helps to place the initial centroids more efficiently, reducing the chances of poor clustering results.\n",
        "\n",
        "* random_state=42: Ensures reproducibility. Setting the same random seed will produce the same results every time the code runs.\n",
        "\n",
        "* kmeans.fit(x)\n",
        "Fits the K-Means model to the dataset x (which contains the selected features: Age and Spending Score). This step performs the clustering.\n",
        "\n",
        "* wcss.append(kmeans.inertia_)\n",
        "Appends the inertia (which is the WCSS) of the current model to the wcss list.\n",
        "\n",
        "* kmeans.inertia_ is a built-in attribute that stores the WCSS for the fitted model. Lower inertia means tighter clusters.\n",
        "\n"
      ],
      "metadata": {
        "id": "aybJYBqLrzZO"
      }
    },
    {
      "cell_type": "markdown",
      "source": [
        "###**Using the Elbow Method to find out the Optimal number of clusters** (2154901087)"
      ],
      "metadata": {
        "id": "fGlJ5yRyYToq"
      }
    },
    {
      "cell_type": "code",
      "source": [
        "plt.plot(range(1,21), wcss)\n",
        "plt.title('The Elbow Method')\n",
        "plt.xlabel('Number of clusters')\n",
        "plt.ylabel('WCSS')"
      ],
      "metadata": {
        "colab": {
          "base_uri": "https://localhost:8080/",
          "height": 489
        },
        "id": "l7W_tEjFYiCy",
        "outputId": "6edf1186-f3ba-4aba-db61-5a514aacd761"
      },
      "execution_count": null,
      "outputs": [
        {
          "output_type": "execute_result",
          "data": {
            "text/plain": [
              "Text(0, 0.5, 'WCSS')"
            ]
          },
          "metadata": {},
          "execution_count": 18
        },
        {
          "output_type": "display_data",
          "data": {
            "text/plain": [
              "<Figure size 640x480 with 1 Axes>"
            ],
            "image/png": "[encoded data removed]"
          },
          "metadata": {}
        }
      ]
    },
    {
      "cell_type": "markdown",
      "source": [
        "* The y-axis represents the Within-Cluster Sum of Squares (WCSS), which measures the total distance between each point and the centroid of its assigned cluster.\n",
        "\n",
        "* The x-axis represents the number of clusters used in the K-Means algorithm.\n",
        "\n",
        "* The graph shows that as the number of clusters increases, the WCSS decreases. This is expected because more clusters generally lead to points being closer to their centroids."
      ],
      "metadata": {
        "id": "Ju7Fa26nuxDy"
      }
    },
    {
      "cell_type": "markdown",
      "source": [
        "Initially, adding clusters significantly reduces the WCSS. But, after a certain point, the reduction in WCSS becomes minimal with the addition of each new cluster. This point is called the \"elbow point\".\n",
        "\n",
        "In the graph, **the elbow seems to appear around 4 clusters**.\n",
        "\n",
        "This means that using 4 clusters is likely optimal because increasing beyond this point gives very little improvement in cluster tightness while increasing model complexity."
      ],
      "metadata": {
        "id": "g7EYpJi4u629"
      }
    },
    {
      "cell_type": "markdown",
      "source": [
        "###From the plot, **the elbow is around k = 5**, suggesting that **5 clusters** is a good choice for segmenting the data based on Annual Income, Age, and Spending Score."
      ],
      "metadata": {
        "id": "UWTD3Ob9ydEM"
      }
    },
    {
      "cell_type": "markdown",
      "source": [
        "###Applying K-Means clustering on the dataset using **Annual Income** and **Spending Score** (i.e., dataset.iloc[:, [3, 4]]), and WCSS for cluster numbers ranging from 1 to 20 is plotted.\n",
        "\n",
        "##**Interpreting This Elbow Plot:**\n",
        "###The graph shows a sharp decline in WCSS up to around k = 5, then the curve starts to flatten. This suggests that **5 clusters** is the optimal choice — the \"elbow point\".\n",
        "###After 5, adding more clusters only gives minor improvements in compactness (WCSS), so it’s not worth the added complexity.\n"
      ],
      "metadata": {
        "id": "alT_ODWRzSz-"
      }
    },
    {
      "cell_type": "code",
      "source": [],
      "metadata": {
        "id": "TG8dgOxru0H6"
      },
      "execution_count": null,
      "outputs": []
    }
  ]
}